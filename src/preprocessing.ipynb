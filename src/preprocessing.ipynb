{
 "cells": [
  {
   "cell_type": "code",
   "id": "initial_id",
   "metadata": {
    "collapsed": true
   },
   "source": [
    "import pandas as pd\n",
    "import numpy as np\n",
    "import seaborn as sns\n",
    "import matplotlib.pyplot as plt\n",
    "from nbformat.v1.nbjson import write"
   ],
   "outputs": [],
   "execution_count": null
  },
  {
   "metadata": {},
   "cell_type": "code",
   "source": [
    "df_train = pd.read_csv(r\"C:\\Users\\prath\\PycharmProjects\\CodeSocHackathon\\DiseaseSpreadPrediction\\Data\\dengue_features_train.csv\")\n",
    "df_labels = pd.read_csv(r\"C:\\Users\\prath\\PycharmProjects\\CodeSocHackathon\\DiseaseSpreadPrediction\\Data\\dengue_labels_train.csv\")\n",
    "df_test = pd.read_csv(r\"C:\\Users\\prath\\PycharmProjects\\CodeSocHackathon\\DiseaseSpreadPrediction\\Data\\dengue_features_test.csv\")"
   ],
   "id": "e8b7d280863e4c26",
   "outputs": [],
   "execution_count": null
  },
  {
   "metadata": {},
   "cell_type": "code",
   "source": "print(\"Columns in df_labels:\", df_labels.columns.tolist())",
   "id": "d0829a855fa5e970",
   "outputs": [],
   "execution_count": null
  },
  {
   "metadata": {},
   "cell_type": "code",
   "source": [
    "# Convert week_start_date to datetime format (handling mixed formats)\n",
    "date_formats = [\"%Y-%m-%d\", \"%d-%m-%Y\"]\n",
    "df_train[\"week_start_date\"] = pd.to_datetime(df_train[\"week_start_date\"], format='mixed', errors='coerce')\n",
    "df_test[\"week_start_date\"] = pd.to_datetime(df_test[\"week_start_date\"], format='mixed', errors='coerce')"
   ],
   "id": "b5a8b289c81116fa",
   "outputs": [],
   "execution_count": null
  },
  {
   "metadata": {},
   "cell_type": "code",
   "source": [
    "# Merge train data with labels\n",
    "df_train = df_train.merge(df_labels, on=[\"city\", \"year\", \"weekofyear\"], how=\"inner\")\n",
    "\n",
    "# Handle total_cases columns\n",
    "if 'total_cases_x' in df_train.columns and 'total_cases_y' in df_train.columns:\n",
    "    df_train.rename(columns={'total_cases_x': 'total_cases'}, inplace=True)\n",
    "    df_train.drop(columns=['total_cases_y'], inplace=True)"
   ],
   "id": "6d4149b3d59f0619",
   "outputs": [],
   "execution_count": null
  },
  {
   "metadata": {},
   "cell_type": "code",
   "source": [
    "# Drop redundant columns\n",
    "df_train.drop(columns=[\"week_start_date\"], inplace=True)\n",
    "df_test.drop(columns=[\"week_start_date\"], inplace=True)"
   ],
   "id": "6681ff0d616b29b6",
   "outputs": [],
   "execution_count": null
  },
  {
   "metadata": {},
   "cell_type": "code",
   "source": [
    "# Check for missing values\n",
    "print(\"\\nMissing Values:\")\n",
    "print(df_train.isnull().sum())"
   ],
   "id": "8d60b2361b35743a",
   "outputs": [],
   "execution_count": null
  },
  {
   "metadata": {},
   "cell_type": "code",
   "source": [
    "# Identify numeric columns\n",
    "numeric_cols_train = df_train.select_dtypes(include=[\"number\"]).columns\n",
    "numeric_cols_test = df_test.select_dtypes(include=[\"number\"]).columns\n",
    "\n",
    "# Ensure both DataFrames have the same numeric columns\n",
    "common_numeric_cols = numeric_cols_train.intersection(numeric_cols_test)"
   ],
   "id": "a160299fc46c71ee",
   "outputs": [],
   "execution_count": null
  },
  {
   "metadata": {},
   "cell_type": "code",
   "source": [
    "# Fill missing values with median of numeric columns\n",
    "df_train[common_numeric_cols] = df_train[common_numeric_cols].fillna(df_train[common_numeric_cols].median())\n",
    "df_test[common_numeric_cols] = df_test[common_numeric_cols].fillna(df_test[common_numeric_cols].median())"
   ],
   "id": "22338fe5c69f548",
   "outputs": [],
   "execution_count": null
  },
  {
   "metadata": {},
   "cell_type": "code",
   "source": [
    "# Encode categorical variables\n",
    "df_train = pd.get_dummies(df_train, columns=[\"city\"], drop_first=True)\n",
    "df_test = pd.get_dummies(df_test, columns=[\"city\"], drop_first=True)"
   ],
   "id": "28e60ca30340c640",
   "outputs": [],
   "execution_count": null
  },
  {
   "metadata": {},
   "cell_type": "code",
   "source": [
    "# Save cleaned data\n",
    "df_train.to_csv(r\"C:\\Users\\prath\\PycharmProjects\\CodeSocHackathon\\DiseaseSpreadPrediction\\Data\\dengue_train_cleaned.csv\", index=False)\n",
    "df_test.to_csv(r\"C:\\Users\\prath\\PycharmProjects\\CodeSocHackathon\\DiseaseSpreadPrediction\\Data\\dengue_test_cleaned.csv\", index=False)"
   ],
   "id": "740f0a57bede523",
   "outputs": [],
   "execution_count": null
  },
  {
   "metadata": {},
   "cell_type": "code",
   "source": "print(\"Data preprocessing completed and saved.\")",
   "id": "ec7d4544c8118fe2",
   "outputs": [],
   "execution_count": null
  },
  {
   "metadata": {},
   "cell_type": "code",
   "source": "",
   "id": "9351830f869201b0",
   "outputs": [],
   "execution_count": null
  }
 ],
 "metadata": {
  "kernelspec": {
   "display_name": "Python 3",
   "language": "python",
   "name": "python3"
  },
  "language_info": {
   "codemirror_mode": {
    "name": "ipython",
    "version": 2
   },
   "file_extension": ".py",
   "mimetype": "text/x-python",
   "name": "python",
   "nbconvert_exporter": "python",
   "pygments_lexer": "ipython2",
   "version": "2.7.6"
  }
 },
 "nbformat": 4,
 "nbformat_minor": 5
}
